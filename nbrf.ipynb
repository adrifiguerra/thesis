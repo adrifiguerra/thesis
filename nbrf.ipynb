{
 "cells": [
  {
   "cell_type": "code",
   "execution_count": 29,
   "metadata": {},
   "outputs": [],
   "source": [
    "import numpy as np\n",
    "import pandas as pd\n",
    "from sklearn.naive_bayes import GaussianNB\n",
    "from sklearn.ensemble import RandomForestClassifier\n",
    "from sklearn.metrics import accuracy_score\n",
    "from sklearn.model_selection import train_test_split\n",
    "import pickle"
   ]
  },
  {
   "cell_type": "code",
   "execution_count": 30,
   "metadata": {},
   "outputs": [
    {
     "data": {
      "text/html": [
       "<div>\n",
       "<style scoped>\n",
       "    .dataframe tbody tr th:only-of-type {\n",
       "        vertical-align: middle;\n",
       "    }\n",
       "\n",
       "    .dataframe tbody tr th {\n",
       "        vertical-align: top;\n",
       "    }\n",
       "\n",
       "    .dataframe thead th {\n",
       "        text-align: right;\n",
       "    }\n",
       "</style>\n",
       "<table border=\"1\" class=\"dataframe\">\n",
       "  <thead>\n",
       "    <tr style=\"text-align: right;\">\n",
       "      <th></th>\n",
       "      <th>Gender</th>\n",
       "      <th>School</th>\n",
       "      <th>Track</th>\n",
       "      <th>PUPCET</th>\n",
       "      <th>SHS GPA</th>\n",
       "      <th>GWAcat</th>\n",
       "    </tr>\n",
       "  </thead>\n",
       "  <tbody>\n",
       "    <tr>\n",
       "      <th>0</th>\n",
       "      <td>0</td>\n",
       "      <td>0</td>\n",
       "      <td>1</td>\n",
       "      <td>80</td>\n",
       "      <td>94.80</td>\n",
       "      <td>4</td>\n",
       "    </tr>\n",
       "    <tr>\n",
       "      <th>1</th>\n",
       "      <td>1</td>\n",
       "      <td>1</td>\n",
       "      <td>1</td>\n",
       "      <td>110</td>\n",
       "      <td>96.28</td>\n",
       "      <td>3</td>\n",
       "    </tr>\n",
       "    <tr>\n",
       "      <th>2</th>\n",
       "      <td>1</td>\n",
       "      <td>1</td>\n",
       "      <td>1</td>\n",
       "      <td>108</td>\n",
       "      <td>94.22</td>\n",
       "      <td>3</td>\n",
       "    </tr>\n",
       "    <tr>\n",
       "      <th>3</th>\n",
       "      <td>1</td>\n",
       "      <td>1</td>\n",
       "      <td>1</td>\n",
       "      <td>98</td>\n",
       "      <td>91.88</td>\n",
       "      <td>2</td>\n",
       "    </tr>\n",
       "    <tr>\n",
       "      <th>4</th>\n",
       "      <td>1</td>\n",
       "      <td>0</td>\n",
       "      <td>1</td>\n",
       "      <td>104</td>\n",
       "      <td>93.00</td>\n",
       "      <td>3</td>\n",
       "    </tr>\n",
       "  </tbody>\n",
       "</table>\n",
       "</div>"
      ],
      "text/plain": [
       "   Gender  School  Track  PUPCET  SHS GPA  GWAcat\n",
       "0       0       0      1      80    94.80       4\n",
       "1       1       1      1     110    96.28       3\n",
       "2       1       1      1     108    94.22       3\n",
       "3       1       1      1      98    91.88       2\n",
       "4       1       0      1     104    93.00       3"
      ]
     },
     "execution_count": 30,
     "metadata": {},
     "output_type": "execute_result"
    }
   ],
   "source": [
    "#Loading the file\n",
    "\n",
    "df = pd.read_csv(\"C:/Users/User/Desktop/Mayk/Data2 (clean).csv\")\n",
    "df.head()"
   ]
  },
  {
   "cell_type": "code",
   "execution_count": 31,
   "metadata": {},
   "outputs": [],
   "source": [
    "#Splitting the data\n",
    "\n",
    "X = df[[\"Gender\", \"School\", \"Track\", \"PUPCET\", \"SHS GPA\"]]\n",
    "y = df[\"GWAcat\"]\n",
    "\n",
    "# Split the dataset into train and test sets\n",
    "X_train, X_test, y_train, y_test = train_test_split(X, y, test_size=0.2, random_state=42)"
   ]
  },
  {
   "cell_type": "code",
   "execution_count": 32,
   "metadata": {},
   "outputs": [],
   "source": [
    "# Create a Gaussian Naive Bayes classifier\n",
    "clf_nb = GaussianNB()\n",
    "\n",
    "# Create a Random Forest classifier\n",
    "clf_rf = RandomForestClassifier(n_estimators=100)"
   ]
  },
  {
   "cell_type": "code",
   "execution_count": 33,
   "metadata": {},
   "outputs": [
    {
     "data": {
      "text/html": [
       "<style>#sk-container-id-3 {color: black;background-color: white;}#sk-container-id-3 pre{padding: 0;}#sk-container-id-3 div.sk-toggleable {background-color: white;}#sk-container-id-3 label.sk-toggleable__label {cursor: pointer;display: block;width: 100%;margin-bottom: 0;padding: 0.3em;box-sizing: border-box;text-align: center;}#sk-container-id-3 label.sk-toggleable__label-arrow:before {content: \"▸\";float: left;margin-right: 0.25em;color: #696969;}#sk-container-id-3 label.sk-toggleable__label-arrow:hover:before {color: black;}#sk-container-id-3 div.sk-estimator:hover label.sk-toggleable__label-arrow:before {color: black;}#sk-container-id-3 div.sk-toggleable__content {max-height: 0;max-width: 0;overflow: hidden;text-align: left;background-color: #f0f8ff;}#sk-container-id-3 div.sk-toggleable__content pre {margin: 0.2em;color: black;border-radius: 0.25em;background-color: #f0f8ff;}#sk-container-id-3 input.sk-toggleable__control:checked~div.sk-toggleable__content {max-height: 200px;max-width: 100%;overflow: auto;}#sk-container-id-3 input.sk-toggleable__control:checked~label.sk-toggleable__label-arrow:before {content: \"▾\";}#sk-container-id-3 div.sk-estimator input.sk-toggleable__control:checked~label.sk-toggleable__label {background-color: #d4ebff;}#sk-container-id-3 div.sk-label input.sk-toggleable__control:checked~label.sk-toggleable__label {background-color: #d4ebff;}#sk-container-id-3 input.sk-hidden--visually {border: 0;clip: rect(1px 1px 1px 1px);clip: rect(1px, 1px, 1px, 1px);height: 1px;margin: -1px;overflow: hidden;padding: 0;position: absolute;width: 1px;}#sk-container-id-3 div.sk-estimator {font-family: monospace;background-color: #f0f8ff;border: 1px dotted black;border-radius: 0.25em;box-sizing: border-box;margin-bottom: 0.5em;}#sk-container-id-3 div.sk-estimator:hover {background-color: #d4ebff;}#sk-container-id-3 div.sk-parallel-item::after {content: \"\";width: 100%;border-bottom: 1px solid gray;flex-grow: 1;}#sk-container-id-3 div.sk-label:hover label.sk-toggleable__label {background-color: #d4ebff;}#sk-container-id-3 div.sk-serial::before {content: \"\";position: absolute;border-left: 1px solid gray;box-sizing: border-box;top: 0;bottom: 0;left: 50%;z-index: 0;}#sk-container-id-3 div.sk-serial {display: flex;flex-direction: column;align-items: center;background-color: white;padding-right: 0.2em;padding-left: 0.2em;position: relative;}#sk-container-id-3 div.sk-item {position: relative;z-index: 1;}#sk-container-id-3 div.sk-parallel {display: flex;align-items: stretch;justify-content: center;background-color: white;position: relative;}#sk-container-id-3 div.sk-item::before, #sk-container-id-3 div.sk-parallel-item::before {content: \"\";position: absolute;border-left: 1px solid gray;box-sizing: border-box;top: 0;bottom: 0;left: 50%;z-index: -1;}#sk-container-id-3 div.sk-parallel-item {display: flex;flex-direction: column;z-index: 1;position: relative;background-color: white;}#sk-container-id-3 div.sk-parallel-item:first-child::after {align-self: flex-end;width: 50%;}#sk-container-id-3 div.sk-parallel-item:last-child::after {align-self: flex-start;width: 50%;}#sk-container-id-3 div.sk-parallel-item:only-child::after {width: 0;}#sk-container-id-3 div.sk-dashed-wrapped {border: 1px dashed gray;margin: 0 0.4em 0.5em 0.4em;box-sizing: border-box;padding-bottom: 0.4em;background-color: white;}#sk-container-id-3 div.sk-label label {font-family: monospace;font-weight: bold;display: inline-block;line-height: 1.2em;}#sk-container-id-3 div.sk-label-container {text-align: center;}#sk-container-id-3 div.sk-container {/* jupyter's `normalize.less` sets `[hidden] { display: none; }` but bootstrap.min.css set `[hidden] { display: none !important; }` so we also need the `!important` here to be able to override the default hidden behavior on the sphinx rendered scikit-learn.org. See: https://github.com/scikit-learn/scikit-learn/issues/21755 */display: inline-block !important;position: relative;}#sk-container-id-3 div.sk-text-repr-fallback {display: none;}</style><div id=\"sk-container-id-3\" class=\"sk-top-container\"><div class=\"sk-text-repr-fallback\"><pre>RandomForestClassifier()</pre><b>In a Jupyter environment, please rerun this cell to show the HTML representation or trust the notebook. <br />On GitHub, the HTML representation is unable to render, please try loading this page with nbviewer.org.</b></div><div class=\"sk-container\" hidden><div class=\"sk-item\"><div class=\"sk-estimator sk-toggleable\"><input class=\"sk-toggleable__control sk-hidden--visually\" id=\"sk-estimator-id-3\" type=\"checkbox\" checked><label for=\"sk-estimator-id-3\" class=\"sk-toggleable__label sk-toggleable__label-arrow\">RandomForestClassifier</label><div class=\"sk-toggleable__content\"><pre>RandomForestClassifier()</pre></div></div></div></div></div>"
      ],
      "text/plain": [
       "RandomForestClassifier()"
      ]
     },
     "execution_count": 33,
     "metadata": {},
     "output_type": "execute_result"
    }
   ],
   "source": [
    "# Train the classifiers\n",
    "\n",
    "clf_nb.fit(X_train, y_train)\n",
    "clf_rf.fit(X_train, y_train)"
   ]
  },
  {
   "cell_type": "code",
   "execution_count": 34,
   "metadata": {},
   "outputs": [],
   "source": [
    "# Calculate the accuracy rates\n",
    "\n",
    "accuracy_nb = accuracy_score(y_test, clf_nb.predict(X_test))\n",
    "accuracy_rf = accuracy_score(y_test, clf_rf.predict(X_test))"
   ]
  },
  {
   "cell_type": "code",
   "execution_count": 35,
   "metadata": {},
   "outputs": [
    {
     "name": "stdout",
     "output_type": "stream",
     "text": [
      "Accuracy (Naive Bayes): 0.5932203389830508\n",
      "Accuracy (Random Forest): 0.5254237288135594\n"
     ]
    }
   ],
   "source": [
    "# Print the accuracy rates\n",
    "\n",
    "print(\"Accuracy (Naive Bayes):\", accuracy_nb)\n",
    "print(\"Accuracy (Random Forest):\", accuracy_rf)"
   ]
  },
  {
   "cell_type": "code",
   "execution_count": 37,
   "metadata": {},
   "outputs": [
    {
     "name": "stdout",
     "output_type": "stream",
     "text": [
      "The student will have a GWA between 1.4501 - 1.7500.\n",
      "The student will have a GWA between 1.7501 - 2.0000.\n"
     ]
    },
    {
     "name": "stderr",
     "output_type": "stream",
     "text": [
      "e:\\Python\\lib\\site-packages\\sklearn\\base.py:420: UserWarning: X does not have valid feature names, but GaussianNB was fitted with feature names\n",
      "  warnings.warn(\n",
      "e:\\Python\\lib\\site-packages\\sklearn\\base.py:420: UserWarning: X does not have valid feature names, but RandomForestClassifier was fitted with feature names\n",
      "  warnings.warn(\n"
     ]
    }
   ],
   "source": [
    "# Get user input\n",
    "input_data = np.asarray((0, 0, 1, 80, 94.8))\n",
    "\n",
    "#reshape array as we are predicting for one instance\n",
    "input_data_reshaped = input_data.reshape(1,-1)\n",
    "\n",
    "# Predict the label using Naive Bayes\n",
    "prediction_nb = clf_nb.predict(input_data_reshaped)\n",
    "\n",
    "# Predict the label using Random Forest\n",
    "prediction_rf = clf_rf.predict(input_data_reshaped)\n",
    "\n",
    "# Print the predictions\n",
    "if (prediction_nb == 1):\n",
    "    print(\"The student will have a GWA between 1.0000 - 1.2000.\")\n",
    "elif (prediction_nb == 2):\n",
    "    print(\"The student will have a GWA between 1.2001 - 1.4500.\")\n",
    "elif (prediction_nb == 3):\n",
    "    print(\"The student will have a GWA between 1.4501 - 1.7500.\")\n",
    "elif (prediction_nb == 4):\n",
    "    print(\"The student will have a GWA between 1.7501 - 2.0000.\")\n",
    "else:\n",
    "    print(\"The student will have a GWA between 2.0000 - 3.0000.\")\n",
    "\n",
    "if (prediction_rf == 1):\n",
    "    print(\"The student will have a GWA between 1.0000 - 1.2000.\")\n",
    "elif (prediction_rf == 2):\n",
    "    print(\"The student will have a GWA between 1.2001 - 1.4500.\")\n",
    "elif (prediction_rf == 3):\n",
    "    print(\"The student will have a GWA between 1.4501 - 1.7500.\")\n",
    "elif (prediction_rf == 4):\n",
    "    print(\"The student will have a GWA between 1.7501 - 2.0000.\")\n",
    "else:\n",
    "    print(\"The student will have a GWA between 2.0000 - 3.0000.\")"
   ]
  },
  {
   "cell_type": "code",
   "execution_count": 38,
   "metadata": {},
   "outputs": [],
   "source": [
    "# Save the trained models\n",
    "filename = 'trained_model_nb.sav'\n",
    "pickle.dump(clf_nb, open(filename, 'wb'))\n",
    "\n",
    "\n",
    "filename1 = 'trained_model_rf.sav'\n",
    "pickle.dump(clf_rf, open(filename1, 'wb'))\n"
   ]
  },
  {
   "cell_type": "code",
   "execution_count": 39,
   "metadata": {},
   "outputs": [],
   "source": [
    "#Loading the saved model\n",
    "loaded_model_nb = pickle.load(open('trained_model_nb.sav', 'rb'))\n",
    "loaded_model_rf = pickle.load(open('trained_model_rf.sav', 'rb'))"
   ]
  },
  {
   "cell_type": "code",
   "execution_count": 40,
   "metadata": {},
   "outputs": [
    {
     "name": "stdout",
     "output_type": "stream",
     "text": [
      "The student will have a GWA between 1.4501 - 1.7500.\n",
      "The student will have a GWA between 1.7501 - 2.0000.\n"
     ]
    },
    {
     "name": "stderr",
     "output_type": "stream",
     "text": [
      "e:\\Python\\lib\\site-packages\\sklearn\\base.py:420: UserWarning: X does not have valid feature names, but GaussianNB was fitted with feature names\n",
      "  warnings.warn(\n",
      "e:\\Python\\lib\\site-packages\\sklearn\\base.py:420: UserWarning: X does not have valid feature names, but RandomForestClassifier was fitted with feature names\n",
      "  warnings.warn(\n"
     ]
    }
   ],
   "source": [
    "# Get user input\n",
    "input_data = np.asarray((0, 0, 1, 80, 94.8))\n",
    "\n",
    "#reshape array as we are predicting for one instance\n",
    "input_data_reshaped = input_data.reshape(1,-1)\n",
    "\n",
    "# Predict the label using Naive Bayes\n",
    "prediction_nb = loaded_model_nb.predict(input_data_reshaped)\n",
    "\n",
    "# Predict the label using Random Forest\n",
    "prediction_rf = loaded_model_rf.predict(input_data_reshaped)\n",
    "\n",
    "# Print the predictions\n",
    "if (prediction_nb == 1):\n",
    "    print(\"The student will have a GWA between 1.0000 - 1.2000.\")\n",
    "elif (prediction_nb == 2):\n",
    "    print(\"The student will have a GWA between 1.2001 - 1.4500.\")\n",
    "elif (prediction_nb == 3):\n",
    "    print(\"The student will have a GWA between 1.4501 - 1.7500.\")\n",
    "elif (prediction_nb == 4):\n",
    "    print(\"The student will have a GWA between 1.7501 - 2.0000.\")\n",
    "else:\n",
    "    print(\"The student will have a GWA between 2.0000 - 3.0000.\")\n",
    "\n",
    "if (prediction_rf == 1):\n",
    "    print(\"The student will have a GWA between 1.0000 - 1.2000.\")\n",
    "elif (prediction_rf == 2):\n",
    "    print(\"The student will have a GWA between 1.2001 - 1.4500.\")\n",
    "elif (prediction_rf == 3):\n",
    "    print(\"The student will have a GWA between 1.4501 - 1.7500.\")\n",
    "elif (prediction_rf == 4):\n",
    "    print(\"The student will have a GWA between 1.7501 - 2.0000.\")\n",
    "else:\n",
    "    print(\"The student will have a GWA between 2.0000 - 3.0000.\")"
   ]
  }
 ],
 "metadata": {
  "kernelspec": {
   "display_name": "Python 3",
   "language": "python",
   "name": "python3"
  },
  "language_info": {
   "codemirror_mode": {
    "name": "ipython",
    "version": 3
   },
   "file_extension": ".py",
   "mimetype": "text/x-python",
   "name": "python",
   "nbconvert_exporter": "python",
   "pygments_lexer": "ipython3",
   "version": "3.10.7"
  },
  "orig_nbformat": 4
 },
 "nbformat": 4,
 "nbformat_minor": 2
}
